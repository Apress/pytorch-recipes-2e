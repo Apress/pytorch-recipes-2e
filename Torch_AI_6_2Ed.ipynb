{
  "cells": [
    {
      "cell_type": "code",
      "execution_count": 1,
      "metadata": {
        "id": "EnL8cLOHU84Y"
      },
      "outputs": [],
      "source": [
        "import torch\n",
        "import torch.nn.functional as F"
      ]
    },
    {
      "cell_type": "code",
      "execution_count": 2,
      "metadata": {
        "id": "Hd8bGqzIU84c"
      },
      "outputs": [],
      "source": [
        "# replace following class code with an easy sequential network\n",
        "class Net(torch.nn.Module):\n",
        "    def __init__(self, n_feature, n_hidden, n_output):\n",
        "        super(Net, self).__init__()\n",
        "        self.hidden = torch.nn.Linear(n_feature, n_hidden)   # hidden layer\n",
        "        self.predict = torch.nn.Linear(n_hidden, n_output)   # output layer\n",
        "\n",
        "    def forward(self, x):\n",
        "        x = F.relu(self.hidden(x))      # activation function for hidden layer\n",
        "        x = self.predict(x)             # linear output\n",
        "        return x"
      ]
    },
    {
      "cell_type": "code",
      "execution_count": 3,
      "metadata": {
        "id": "iprMzbnoU84d"
      },
      "outputs": [],
      "source": [
        "net1 = Net(1, 100, 1)"
      ]
    },
    {
      "cell_type": "code",
      "execution_count": 4,
      "metadata": {
        "id": "mSWZovHjU84e"
      },
      "outputs": [],
      "source": [
        "# easy and fast way to build your network\n",
        "net2 = torch.nn.Sequential(\n",
        "    torch.nn.Linear(1, 100),\n",
        "    torch.nn.ReLU(),\n",
        "    torch.nn.Linear(100, 1)\n",
        ")"
      ]
    },
    {
      "cell_type": "code",
      "execution_count": 5,
      "metadata": {
        "id": "tLbRuhX5U84e",
        "outputId": "11a57d6c-44ff-464c-c16d-aa500d55dd6b",
        "colab": {
          "base_uri": "https://localhost:8080/"
        }
      },
      "outputs": [
        {
          "output_type": "stream",
          "name": "stdout",
          "text": [
            "Net(\n",
            "  (hidden): Linear(in_features=1, out_features=100, bias=True)\n",
            "  (predict): Linear(in_features=100, out_features=1, bias=True)\n",
            ")\n",
            "Sequential(\n",
            "  (0): Linear(in_features=1, out_features=100, bias=True)\n",
            "  (1): ReLU()\n",
            "  (2): Linear(in_features=100, out_features=1, bias=True)\n",
            ")\n"
          ]
        }
      ],
      "source": [
        "print(net1)     # net1 architecture\n",
        "print(net2)     # net2 architecture"
      ]
    },
    {
      "cell_type": "code",
      "execution_count": 6,
      "metadata": {
        "id": "HB4JU4tpU84f",
        "outputId": "0c934140-19bc-48a1-a990-997ef7746a90",
        "colab": {
          "base_uri": "https://localhost:8080/"
        }
      },
      "outputs": [
        {
          "output_type": "execute_result",
          "data": {
            "text/plain": [
              "<torch._C.Generator at 0x7f39141eba50>"
            ]
          },
          "metadata": {},
          "execution_count": 6
        }
      ],
      "source": [
        "import torch\n",
        "import torch.utils.data as Data\n",
        "\n",
        "torch.manual_seed(1234)    # reproducible"
      ]
    },
    {
      "cell_type": "code",
      "execution_count": 7,
      "metadata": {
        "id": "81rlCeXjU84g"
      },
      "outputs": [],
      "source": [
        "BATCH_SIZE = 5\n",
        "# BATCH_SIZE = 8"
      ]
    },
    {
      "cell_type": "code",
      "execution_count": 8,
      "metadata": {
        "id": "VMIGGfUjU84h"
      },
      "outputs": [],
      "source": [
        "x = torch.linspace(1, 10, 10)       # this is x data (torch tensor)\n",
        "y = torch.linspace(10, 1, 10)       # this is y data (torch tensor)"
      ]
    },
    {
      "cell_type": "code",
      "execution_count": 9,
      "metadata": {
        "id": "1y7Obc0_U84i"
      },
      "outputs": [],
      "source": [
        "torch_dataset = Data.TensorDataset(x, y)\n",
        "loader = Data.DataLoader(\n",
        "    dataset=torch_dataset,      # torch TensorDataset format\n",
        "    batch_size=BATCH_SIZE,      # mini batch size\n",
        "    shuffle=True,               # random shuffle for training\n",
        "    num_workers=2,              # subprocesses for loading data\n",
        ")"
      ]
    },
    {
      "cell_type": "code",
      "execution_count": 10,
      "metadata": {
        "id": "UcbofYukU84i",
        "outputId": "855d1932-886a-41a3-ba93-d25e41284453",
        "colab": {
          "base_uri": "https://localhost:8080/"
        }
      },
      "outputs": [
        {
          "output_type": "stream",
          "name": "stdout",
          "text": [
            "Epoch:  0 | Step:  0 | batch x:  [3. 2. 4. 7. 8.] | batch y:  [8. 9. 7. 4. 3.]\n",
            "Epoch:  0 | Step:  1 | batch x:  [10.  6.  5.  9.  1.] | batch y:  [ 1.  5.  6.  2. 10.]\n",
            "Epoch:  1 | Step:  0 | batch x:  [ 4.  1. 10.  6.  3.] | batch y:  [ 7. 10.  1.  5.  8.]\n",
            "Epoch:  1 | Step:  1 | batch x:  [7. 5. 8. 9. 2.] | batch y:  [4. 6. 3. 2. 9.]\n",
            "Epoch:  2 | Step:  0 | batch x:  [6. 1. 2. 5. 9.] | batch y:  [ 5. 10.  9.  6.  2.]\n",
            "Epoch:  2 | Step:  1 | batch x:  [ 7.  4. 10.  3.  8.] | batch y:  [4. 7. 1. 8. 3.]\n",
            "Epoch:  3 | Step:  0 | batch x:  [ 2.  3.  1. 10.  7.] | batch y:  [ 9.  8. 10.  1.  4.]\n",
            "Epoch:  3 | Step:  1 | batch x:  [9. 6. 8. 4. 5.] | batch y:  [2. 5. 3. 7. 6.]\n",
            "Epoch:  4 | Step:  0 | batch x:  [7. 4. 8. 2. 9.] | batch y:  [4. 7. 3. 9. 2.]\n",
            "Epoch:  4 | Step:  1 | batch x:  [ 1. 10.  5.  3.  6.] | batch y:  [10.  1.  6.  8.  5.]\n"
          ]
        }
      ],
      "source": [
        "for epoch in range(5):   # train entire dataset 5 times\n",
        "    for step, (batch_x, batch_y) in enumerate(loader):  # for each training step\n",
        "        # train your data...\n",
        "        print('Epoch: ', epoch, '| Step: ', step, '| batch x: ',\n",
        "              batch_x.numpy(), '| batch y: ', batch_y.numpy())"
      ]
    },
    {
      "cell_type": "code",
      "execution_count": 11,
      "metadata": {
        "id": "3woRCLxHU84j"
      },
      "outputs": [],
      "source": [
        "BATCH_SIZE = 8\n",
        "loader = Data.DataLoader(\n",
        "    dataset=torch_dataset,      # torch TensorDataset format\n",
        "    batch_size=BATCH_SIZE,      # mini batch size\n",
        "    shuffle=True,               # random shuffle for training\n",
        "    num_workers=2,              # subprocesses for loading data\n",
        ")"
      ]
    },
    {
      "cell_type": "code",
      "execution_count": 12,
      "metadata": {
        "id": "HCW2-s_-U84j",
        "outputId": "ea06a395-93fe-483b-d930-338732a898e0",
        "colab": {
          "base_uri": "https://localhost:8080/"
        }
      },
      "outputs": [
        {
          "output_type": "stream",
          "name": "stdout",
          "text": [
            "Epoch:  0 | Step:  0 | batch x:  [7. 2. 5. 8. 1. 4. 6. 3.] | batch y:  [ 4.  9.  6.  3. 10.  7.  5.  8.]\n",
            "Epoch:  0 | Step:  1 | batch x:  [10.  9.] | batch y:  [1. 2.]\n",
            "Epoch:  1 | Step:  0 | batch x:  [ 5.  1.  7.  8. 10.  9.  6.  3.] | batch y:  [ 6. 10.  4.  3.  1.  2.  5.  8.]\n",
            "Epoch:  1 | Step:  1 | batch x:  [2. 4.] | batch y:  [9. 7.]\n",
            "Epoch:  2 | Step:  0 | batch x:  [ 6.  2.  3.  1.  8.  7.  5. 10.] | batch y:  [ 5.  9.  8. 10.  3.  4.  6.  1.]\n",
            "Epoch:  2 | Step:  1 | batch x:  [9. 4.] | batch y:  [2. 7.]\n",
            "Epoch:  3 | Step:  0 | batch x:  [ 4.  3.  5.  7.  2. 10.  6.  1.] | batch y:  [ 7.  8.  6.  4.  9.  1.  5. 10.]\n",
            "Epoch:  3 | Step:  1 | batch x:  [8. 9.] | batch y:  [3. 2.]\n",
            "Epoch:  4 | Step:  0 | batch x:  [ 5.  7.  8. 10.  3.  2.  4.  9.] | batch y:  [6. 4. 3. 1. 8. 9. 7. 2.]\n",
            "Epoch:  4 | Step:  1 | batch x:  [6. 1.] | batch y:  [ 5. 10.]\n"
          ]
        }
      ],
      "source": [
        "for epoch in range(5):   # train entire dataset 5 times\n",
        "    for step, (batch_x, batch_y) in enumerate(loader):  # for each training step\n",
        "        # train your data...\n",
        "        print('Epoch: ', epoch, '| Step: ', step, '| batch x: ',\n",
        "              batch_x.numpy(), '| batch y: ', batch_y.numpy())"
      ]
    },
    {
      "cell_type": "code",
      "execution_count": 13,
      "metadata": {
        "id": "p5BcnxrPU84k"
      },
      "outputs": [],
      "source": [
        "import torch\n",
        "import torch.utils.data as Data\n",
        "import torch.nn.functional as F\n",
        "from torch.autograd import Variable\n",
        "import matplotlib.pyplot as plt\n",
        "%matplotlib inline"
      ]
    },
    {
      "cell_type": "code",
      "execution_count": 14,
      "metadata": {
        "id": "A4ifw9hhU84k",
        "outputId": "69e6c044-c2fb-4182-91a2-b82042026166",
        "colab": {
          "base_uri": "https://localhost:8080/"
        }
      },
      "outputs": [
        {
          "output_type": "execute_result",
          "data": {
            "text/plain": [
              "<torch._C.Generator at 0x7f39141eba50>"
            ]
          },
          "metadata": {},
          "execution_count": 14
        }
      ],
      "source": [
        "torch.manual_seed(12345)    # reproducible"
      ]
    },
    {
      "cell_type": "code",
      "execution_count": 15,
      "metadata": {
        "id": "KuiSFYywU84l"
      },
      "outputs": [],
      "source": [
        "LR = 0.01\n",
        "BATCH_SIZE = 32\n",
        "EPOCH = 12"
      ]
    },
    {
      "cell_type": "code",
      "execution_count": 16,
      "metadata": {
        "id": "GjW3SzrQU84l",
        "outputId": "ded167d8-3641-47d1-89e6-3da241951563",
        "colab": {
          "base_uri": "https://localhost:8080/",
          "height": 265
        }
      },
      "outputs": [
        {
          "output_type": "display_data",
          "data": {
            "text/plain": [
              "<Figure size 432x288 with 1 Axes>"
            ],
            "image/png": "[encoded data removed]"
          },
          "metadata": {
            "needs_background": "light"
          }
        }
      ],
      "source": [
        "# sample dataset\n",
        "x = torch.unsqueeze(torch.linspace(-1, 1, 1000), dim=1)\n",
        "y = x.pow(2) + 0.3*torch.normal(torch.zeros(*x.size()))\n",
        "\n",
        "# plot dataset\n",
        "plt.scatter(x.numpy(), y.numpy())\n",
        "plt.show()"
      ]
    },
    {
      "cell_type": "code",
      "execution_count": 17,
      "metadata": {
        "id": "gQHYH9K_U84l",
        "outputId": "9cce60d0-4522-482f-ae59-2c27f86b827d",
        "colab": {
          "base_uri": "https://localhost:8080/"
        }
      },
      "outputs": [
        {
          "output_type": "execute_result",
          "data": {
            "text/plain": [
              "tensor([[-1.0000],\n",
              "        [-0.9980],\n",
              "        [-0.9960],\n",
              "        [-0.9940],\n",
              "        [-0.9920],\n",
              "        [-0.9900],\n",
              "        [-0.9880],\n",
              "        [-0.9860],\n",
              "        [-0.9840],\n",
              "        [-0.9820]])"
            ]
          },
          "metadata": {},
          "execution_count": 17
        }
      ],
      "source": [
        "x[0:10]"
      ]
    },
    {
      "cell_type": "code",
      "execution_count": 18,
      "metadata": {
        "id": "3jWJMCcIU84m",
        "outputId": "19928ddc-4cbe-4257-8255-2d97ca90209f",
        "colab": {
          "base_uri": "https://localhost:8080/"
        }
      },
      "outputs": [
        {
          "output_type": "execute_result",
          "data": {
            "text/plain": [
              "tensor([[0.5561],\n",
              "        [1.1422],\n",
              "        [0.0882],\n",
              "        [1.1212],\n",
              "        [1.0920],\n",
              "        [0.9764],\n",
              "        [1.0417],\n",
              "        [0.5877],\n",
              "        [1.6916],\n",
              "        [1.5640]])"
            ]
          },
          "metadata": {},
          "execution_count": 18
        }
      ],
      "source": [
        "y[0:10]"
      ]
    },
    {
      "cell_type": "code",
      "execution_count": 19,
      "metadata": {
        "id": "SRvNsDLTU84m"
      },
      "outputs": [],
      "source": [
        "torch_dataset = Data.TensorDataset(x, y)\n",
        "loader = Data.DataLoader(\n",
        "    dataset=torch_dataset, \n",
        "    batch_size=BATCH_SIZE, \n",
        "    shuffle=True, num_workers=2,)"
      ]
    },
    {
      "cell_type": "code",
      "execution_count": 20,
      "metadata": {
        "id": "V0D9bUXqU84n",
        "outputId": "eba59a56-2904-443b-aa8b-a536147aa8dc",
        "colab": {
          "base_uri": "https://localhost:8080/"
        }
      },
      "outputs": [
        {
          "output_type": "execute_result",
          "data": {
            "text/plain": [
              "<torch.utils.data.dataset.TensorDataset at 0x7f39127b8d50>"
            ]
          },
          "metadata": {},
          "execution_count": 20
        }
      ],
      "source": [
        "torch_dataset"
      ]
    },
    {
      "cell_type": "code",
      "execution_count": 21,
      "metadata": {
        "id": "bd76eBKWU84n",
        "outputId": "bb3e834a-0f91-40ac-f088-a606ad88ebb7",
        "colab": {
          "base_uri": "https://localhost:8080/"
        }
      },
      "outputs": [
        {
          "output_type": "execute_result",
          "data": {
            "text/plain": [
              "<torch.utils.data.dataloader.DataLoader at 0x7f39127b8a10>"
            ]
          },
          "metadata": {},
          "execution_count": 21
        }
      ],
      "source": [
        "loader"
      ]
    },
    {
      "cell_type": "code",
      "execution_count": 22,
      "metadata": {
        "id": "VtXSaseRU84o"
      },
      "outputs": [],
      "source": [
        "class Net(torch.nn.Module):\n",
        "    def __init__(self):\n",
        "        super(Net, self).__init__()\n",
        "        self.hidden = torch.nn.Linear(1, 20)   # hidden layer\n",
        "        self.predict = torch.nn.Linear(20, 1)   # output layer\n",
        "\n",
        "    def forward(self, x):\n",
        "        x = F.relu(self.hidden(x))      # activation function for hidden layer\n",
        "        x = self.predict(x)             # linear output\n",
        "        return x"
      ]
    },
    {
      "cell_type": "code",
      "execution_count": 23,
      "metadata": {
        "id": "k7AhyiIaU84o"
      },
      "outputs": [],
      "source": [
        "net_SGD         = Net()\n",
        "net_Momentum    = Net()\n",
        "net_RMSprop     = Net()\n",
        "net_Adam        = Net()\n",
        "nets = [net_SGD, net_Momentum, net_RMSprop, net_Adam]"
      ]
    },
    {
      "cell_type": "code",
      "execution_count": 24,
      "metadata": {
        "id": "-PPu3MpFU84o",
        "outputId": "08ec67d4-e828-454a-cfb2-4cca9ed1d70c",
        "colab": {
          "base_uri": "https://localhost:8080/"
        }
      },
      "outputs": [
        {
          "output_type": "execute_result",
          "data": {
            "text/plain": [
              "Net(\n",
              "  (hidden): Linear(in_features=1, out_features=20, bias=True)\n",
              "  (predict): Linear(in_features=20, out_features=1, bias=True)\n",
              ")"
            ]
          },
          "metadata": {},
          "execution_count": 24
        }
      ],
      "source": [
        "net_Adam"
      ]
    },
    {
      "cell_type": "code",
      "execution_count": 25,
      "metadata": {
        "id": "-78rnnJ9U84o",
        "outputId": "35824cb6-0fdc-4324-baff-7481a3ecc591",
        "colab": {
          "base_uri": "https://localhost:8080/"
        }
      },
      "outputs": [
        {
          "output_type": "execute_result",
          "data": {
            "text/plain": [
              "Net(\n",
              "  (hidden): Linear(in_features=1, out_features=20, bias=True)\n",
              "  (predict): Linear(in_features=20, out_features=1, bias=True)\n",
              ")"
            ]
          },
          "metadata": {},
          "execution_count": 25
        }
      ],
      "source": [
        "net_Momentum"
      ]
    },
    {
      "cell_type": "code",
      "execution_count": 26,
      "metadata": {
        "id": "kGwUt7BbU84p",
        "outputId": "d7291e33-ddd7-4467-ac92-7c3bd7c9d40f",
        "colab": {
          "base_uri": "https://localhost:8080/"
        }
      },
      "outputs": [
        {
          "output_type": "execute_result",
          "data": {
            "text/plain": [
              "Net(\n",
              "  (hidden): Linear(in_features=1, out_features=20, bias=True)\n",
              "  (predict): Linear(in_features=20, out_features=1, bias=True)\n",
              ")"
            ]
          },
          "metadata": {},
          "execution_count": 26
        }
      ],
      "source": [
        "net_RMSprop"
      ]
    },
    {
      "cell_type": "code",
      "execution_count": 27,
      "metadata": {
        "id": "NQW2iLglU84p",
        "outputId": "afb85596-264d-4509-99ed-b9c3f3114260",
        "colab": {
          "base_uri": "https://localhost:8080/"
        }
      },
      "outputs": [
        {
          "output_type": "execute_result",
          "data": {
            "text/plain": [
              "Net(\n",
              "  (hidden): Linear(in_features=1, out_features=20, bias=True)\n",
              "  (predict): Linear(in_features=20, out_features=1, bias=True)\n",
              ")"
            ]
          },
          "metadata": {},
          "execution_count": 27
        }
      ],
      "source": [
        "net_SGD"
      ]
    },
    {
      "cell_type": "code",
      "execution_count": 28,
      "metadata": {
        "id": "jpVPMXfYU84p"
      },
      "outputs": [],
      "source": [
        "opt_SGD         = torch.optim.SGD(net_SGD.parameters(), lr=LR)\n",
        "opt_Momentum    = torch.optim.SGD(net_Momentum.parameters(), \n",
        "                                  lr=LR, momentum=0.8)\n",
        "opt_RMSprop     = torch.optim.RMSprop(net_RMSprop.parameters(), \n",
        "                                      lr=LR, alpha=0.9)\n",
        "opt_Adam        = torch.optim.Adam(net_Adam.parameters(), \n",
        "                                   lr=LR, betas=(0.9, 0.99))\n",
        "optimizers = [opt_SGD, opt_Momentum, opt_RMSprop, opt_Adam]"
      ]
    },
    {
      "cell_type": "code",
      "execution_count": 29,
      "metadata": {
        "id": "oWDW_3TxU84q",
        "outputId": "ff30aab2-803d-41bf-d65c-118e446d2653",
        "colab": {
          "base_uri": "https://localhost:8080/"
        }
      },
      "outputs": [
        {
          "output_type": "execute_result",
          "data": {
            "text/plain": [
              "Adam (\n",
              "Parameter Group 0\n",
              "    amsgrad: False\n",
              "    betas: (0.9, 0.99)\n",
              "    capturable: False\n",
              "    eps: 1e-08\n",
              "    foreach: None\n",
              "    lr: 0.01\n",
              "    maximize: False\n",
              "    weight_decay: 0\n",
              ")"
            ]
          },
          "metadata": {},
          "execution_count": 29
        }
      ],
      "source": [
        "opt_Adam"
      ]
    },
    {
      "cell_type": "code",
      "execution_count": 30,
      "metadata": {
        "id": "KUJ3Iv8jU84q",
        "outputId": "0adc6541-6c79-4697-a66c-3d39ab1a2215",
        "colab": {
          "base_uri": "https://localhost:8080/"
        }
      },
      "outputs": [
        {
          "output_type": "execute_result",
          "data": {
            "text/plain": [
              "SGD (\n",
              "Parameter Group 0\n",
              "    dampening: 0\n",
              "    foreach: None\n",
              "    lr: 0.01\n",
              "    maximize: False\n",
              "    momentum: 0.8\n",
              "    nesterov: False\n",
              "    weight_decay: 0\n",
              ")"
            ]
          },
          "metadata": {},
          "execution_count": 30
        }
      ],
      "source": [
        "opt_Momentum"
      ]
    },
    {
      "cell_type": "code",
      "execution_count": 31,
      "metadata": {
        "id": "_ZLaVKyHU84q",
        "outputId": "bf34ab09-c631-4e13-8e03-c775f275300c",
        "colab": {
          "base_uri": "https://localhost:8080/"
        }
      },
      "outputs": [
        {
          "output_type": "execute_result",
          "data": {
            "text/plain": [
              "RMSprop (\n",
              "Parameter Group 0\n",
              "    alpha: 0.9\n",
              "    centered: False\n",
              "    eps: 1e-08\n",
              "    foreach: None\n",
              "    lr: 0.01\n",
              "    momentum: 0\n",
              "    weight_decay: 0\n",
              ")"
            ]
          },
          "metadata": {},
          "execution_count": 31
        }
      ],
      "source": [
        "opt_RMSprop"
      ]
    },
    {
      "cell_type": "code",
      "execution_count": 32,
      "metadata": {
        "id": "IPpazDbxU84q",
        "outputId": "d78d6885-eb9e-406f-c626-3dd46f0e47cf",
        "colab": {
          "base_uri": "https://localhost:8080/"
        }
      },
      "outputs": [
        {
          "output_type": "execute_result",
          "data": {
            "text/plain": [
              "SGD (\n",
              "Parameter Group 0\n",
              "    dampening: 0\n",
              "    foreach: None\n",
              "    lr: 0.01\n",
              "    maximize: False\n",
              "    momentum: 0\n",
              "    nesterov: False\n",
              "    weight_decay: 0\n",
              ")"
            ]
          },
          "metadata": {},
          "execution_count": 32
        }
      ],
      "source": [
        "opt_SGD"
      ]
    },
    {
      "cell_type": "code",
      "execution_count": 33,
      "metadata": {
        "id": "LHBovR6RU84r"
      },
      "outputs": [],
      "source": [
        "loss_func = torch.nn.MSELoss()\n",
        "losses_his = [[], [], [], []]   # record loss"
      ]
    },
    {
      "cell_type": "code",
      "execution_count": 34,
      "metadata": {
        "id": "oELGHsUVU84r",
        "outputId": "e56bd22c-1aa7-4501-f5be-407406da1d79",
        "colab": {
          "base_uri": "https://localhost:8080/"
        }
      },
      "outputs": [
        {
          "output_type": "execute_result",
          "data": {
            "text/plain": [
              "MSELoss()"
            ]
          },
          "metadata": {},
          "execution_count": 34
        }
      ],
      "source": [
        "loss_func"
      ]
    },
    {
      "cell_type": "code",
      "execution_count": 36,
      "metadata": {
        "id": "kh5vbIUVU84r",
        "outputId": "660252e6-dc2a-4457-f17a-ce17fb0f4d6f",
        "colab": {
          "base_uri": "https://localhost:8080/",
          "height": 497
        }
      },
      "outputs": [
        {
          "output_type": "stream",
          "name": "stdout",
          "text": [
            "Epoch:  0\n",
            "Epoch:  1\n",
            "Epoch:  2\n",
            "Epoch:  3\n",
            "Epoch:  4\n",
            "Epoch:  5\n",
            "Epoch:  6\n",
            "Epoch:  7\n",
            "Epoch:  8\n",
            "Epoch:  9\n",
            "Epoch:  10\n",
            "Epoch:  11\n"
          ]
        },
        {
          "output_type": "display_data",
          "data": {
            "text/plain": [
              "<Figure size 432x288 with 1 Axes>"
            ],
            "image/png": "[encoded data removed]"
          },
          "metadata": {
            "needs_background": "light"
          }
        }
      ],
      "source": [
        "# training\n",
        "for epoch in range(EPOCH):\n",
        "    print('Epoch: ', epoch)\n",
        "    for step, (batch_x, batch_y) in enumerate(loader):          # for each training step\n",
        "        b_x = Variable(batch_x)\n",
        "        b_y = Variable(batch_y)\n",
        "\n",
        "        for net, opt, l_his in zip(nets, optimizers, losses_his):\n",
        "            output = net(b_x)              # get output for every net\n",
        "            loss = loss_func(output, b_y)  # compute loss for every net\n",
        "            opt.zero_grad()                # clear gradients for next train\n",
        "            loss.backward()                # backpropagation, compute gradients\n",
        "            opt.step()                     # apply gradients\n",
        "            l_his.append(loss.data)     # loss recoder\n",
        "\n",
        "labels = ['SGD', 'Momentum', 'RMSprop', 'Adam']\n",
        "for i, l_his in enumerate(losses_his):\n",
        "    plt.plot(l_his, label=labels[i])\n",
        "plt.legend(loc='best')\n",
        "plt.xlabel('Steps')\n",
        "plt.ylabel('Loss')\n",
        "plt.ylim((0, 0.2))\n",
        "plt.show()"
      ]
    },
    {
      "cell_type": "code",
      "execution_count": 36,
      "metadata": {
        "id": "LNHVcXh2U84t"
      },
      "outputs": [],
      "source": []
    },
    {
      "cell_type": "code",
      "execution_count": 36,
      "metadata": {
        "id": "WpI2Lsr7U84t"
      },
      "outputs": [],
      "source": []
    }
  ],
  "metadata": {
    "kernelspec": {
      "display_name": "Python 3",
      "language": "python",
      "name": "python3"
    },
    "language_info": {
      "codemirror_mode": {
        "name": "ipython",
        "version": 3
      },
      "file_extension": ".py",
      "mimetype": "text/x-python",
      "name": "python",
      "nbconvert_exporter": "python",
      "pygments_lexer": "ipython3",
      "version": "3.6.4"
    },
    "colab": {
      "name": "Torch_AI_6_2Ed.ipynb",
      "provenance": [],
      "collapsed_sections": []
    }
  },
  "nbformat": 4,
  "nbformat_minor": 0
}